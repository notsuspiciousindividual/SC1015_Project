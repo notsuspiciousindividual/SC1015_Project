{
 "cells": [
  {
   "attachments": {},
   "cell_type": "markdown",
   "metadata": {},
   "source": [
    "# Extracting data from MovieAPI DataBase\n",
    "With the data science question being which movie will be the next oscar award movie, we'll need to extract our starting data. MovieDB Database has collected movies ranging from 1927 to upcoming movies that will be played in cinemas. We will be using API version 3 due to better accessibility and documentation."
   ]
  },
  {
   "cell_type": "code",
   "execution_count": 1,
   "metadata": {},
   "outputs": [],
   "source": [
    "# For data processing\n",
    "import numpy as np\n",
    "import pandas as pd\n",
    "\n",
    "# For API usage\n",
    "import requests as r\n",
    "\n",
    "#our lifesaver, the progress bar\n",
    "from tqdm import tqdm"
   ]
  },
  {
   "attachments": {},
   "cell_type": "markdown",
   "metadata": {},
   "source": [
    "## Problems when extracting data\n",
    "\n",
    "MovieDB has created a limit query when it comes to retrieving movies (to prevent spam of queries). However, they have a scaled down version of in which it features movies released to their specific IDs. We'll use the scaled down data dump of movies to get their proper details through Movie ID."
   ]
  },
  {
   "cell_type": "code",
   "execution_count": 8,
   "metadata": {},
   "outputs": [
    {
     "name": "stdout",
     "output_type": "stream",
     "text": [
      "adult                bool\n",
      "id                  int64\n",
      "original_title     object\n",
      "popularity        float64\n",
      "video                bool\n",
      "dtype: object\n",
      "   adult     id                      original_title  popularity  video\n",
      "0  False   3924                             Blondie       3.502  False\n",
      "1  False   6124                 Der Mann ohne Namen       0.600  False\n",
      "2  False   8773                 L'Amour à vingt ans       2.722  False\n",
      "3  False  25449  New World Disorder 9: Never Enough       1.097  False\n",
      "4  False  31975      Sesame Street: Elmo Loves You!       0.600   True\n"
     ]
    }
   ],
   "source": [
    "#API Key \n",
    "API_KEY = 'b4c353d61e8791dac39e77e69a2c08d3' \n",
    "\n",
    "##This is to extract our the whole database from their daily dump\n",
    "simple_extract = pd.read_json('datasets/movie_ids_03_25_2023.json', lines=True)\n",
    "print(simple_extract.dtypes)\n",
    "print(simple_extract.head(5))\n",
    " "
   ]
  },
  {
   "attachments": {},
   "cell_type": "markdown",
   "metadata": {},
   "source": [
    "## Extracting the necessary movies\n",
    "MovieDB Api has allowed us to streamline our search. In their repository, they have range of movies to tv shows that developers can use to extract their needed information. With the idea of getting movies that won or almost won oscar awards, TV Shows, adult videos should not be part of our data. To streamline furthur, we'll also exclude movies that is out of the popularity norm to lessen our data extraction process."
   ]
  },
  {
   "cell_type": "code",
   "execution_count": 9,
   "metadata": {},
   "outputs": [
    {
     "name": "stdout",
     "output_type": "stream",
     "text": [
      "   adult     id                      original_title  popularity  video\n",
      "0  False   3924                             Blondie       3.502  False\n",
      "1  False   6124                 Der Mann ohne Namen       0.600  False\n",
      "2  False   8773                 L'Amour à vingt ans       2.722  False\n",
      "3  False  25449  New World Disorder 9: Never Enough       1.097  False\n",
      "5  False      2                               Ariel       9.553  False\n",
      "[False]\n",
      "[False]\n"
     ]
    }
   ],
   "source": [
    "cleanedSimple_data = simple_extract.drop(simple_extract[(simple_extract['adult'] == True) | (simple_extract['video'] == True)].index)\n",
    "print(cleanedSimple_data.head(5))\n",
    "\n",
    "#Verify adult videos and videos are false\n",
    "print(cleanedSimple_data['adult'].unique())\n",
    "print(cleanedSimple_data['video'].unique())"
   ]
  },
  {
   "cell_type": "code",
   "execution_count": 10,
   "metadata": {},
   "outputs": [
    {
     "name": "stdout",
     "output_type": "stream",
     "text": [
      "id                18350\n",
      "original_title    18350\n",
      "popularity        18350\n",
      "dtype: int64\n"
     ]
    }
   ],
   "source": [
    "#We'll only need our ID column for this to create our actual dataset\n",
    "movie_data = cleanedSimple_data.drop(columns=['adult','video']) \n",
    "movie_data = movie_data.sort_values(by=['id'])\n",
    "\n",
    "#Drop movies with less than 40 popularity\n",
    "movie_data = movie_data.drop(movie_data[movie_data['popularity'] <= 8].index)\n",
    "#movie_data = movie_data.drop(movie_data[movie_data['popularity'] <= 101].index)\n",
    "movie_data = movie_data.reset_index(drop=True)\n",
    "#print(movie_data.head(5))\n",
    "print(movie_data.count())\n",
    "#print(movie_data.tail(5))"
   ]
  },
  {
   "attachments": {},
   "cell_type": "markdown",
   "metadata": {},
   "source": [
    "## Extraction of properties we believe contribute to movies being potential oscar winning movies\n",
    "\n",
    "Looking through the variables that we are able to extract, we believed that the possible variables could lead to show us a correlation of movies winning oscars. \n",
    "\n",
    "- Budget: More budget for the movie, better resources such as visual effects or CGI to capture audience attention\n",
    "- Revenue: If the budget earns a lot from the movie, there is a high chance it was popular and was able to attract people to watch it\n",
    "- Vote Average: Better voting would mean many more would enjoy watching it, hence a higher chance of winning an oscar by votes or popularity choice\n",
    "- Runtime: A well created movie within a certain range to captivate audience may allow them to win an oscar\n",
    "- Cast Popularity: Popular actors would then show that the movies were acted out well\n",
    "- Crew Popularity: Movie that is directed or crafted by great storytellers or editors can be a possible reason for a movie to win an oscar"
   ]
  },
  {
   "cell_type": "code",
   "execution_count": 11,
   "metadata": {},
   "outputs": [],
   "source": [
    "#Method for getting stats\n",
    "\n",
    "def compute_top_seven_avg(df, col):\n",
    "    try:\n",
    "        top = df[col].sort_values(ascending=False)\n",
    "        top = top[:min(len(df), 7)]\n",
    "        return top.sum() / len(top)\n",
    "    except:\n",
    "        return np.nan\n",
    "    \n",
    "def get_popularity_stats(resp, col):\n",
    "    result = {}\n",
    "\n",
    "    try:\n",
    "        data = pd.DataFrame(resp.json()[col])\n",
    "        \n",
    "        try:\n",
    "            result['avg'] = compute_top_seven_avg(data, 'popularity')\n",
    "        except:\n",
    "            result['avg'] = np.nan\n",
    "\n",
    "        try:\n",
    "            result['sum'] = data['popularity'].sum()\n",
    "        except:\n",
    "            result['sum'] = np.nan\n",
    "\n",
    "        try:\n",
    "            result['top'] = data['popularity'].max()\n",
    "        except:\n",
    "            result['top'] = np.nan\n",
    "\n",
    "    except KeyError:\n",
    "        result['avg'] = np.nan\n",
    "        result['sum'] = np.nan\n",
    "        result['top'] = np.nan\n",
    "        \n",
    "    return result\n"
   ]
  },
  {
   "cell_type": "code",
   "execution_count": 12,
   "metadata": {},
   "outputs": [
    {
     "name": "stderr",
     "output_type": "stream",
     "text": [
      "100%|██████████| 18350/18350 [1:21:06<00:00,  3.77it/s]"
     ]
    },
    {
     "name": "stdout",
     "output_type": "stream",
     "text": [
      "   id        original_title  popularity      budget      revenue release_date  \\\n",
      "0   2                 Ariel       9.553         NaN          NaN         1988   \n",
      "1   3  Varjoja paratiisissa       9.228         NaN          NaN         1986   \n",
      "2   5            Four Rooms      18.254   4000000.0    4257354.0         1995   \n",
      "3   6        Judgment Night      11.309  21000000.0   12136938.0         1993   \n",
      "4  11             Star Wars      87.513  11000000.0  775398007.0         1977   \n",
      "\n",
      "   popularity  vote_average  runtime  top_casts_popularity_avg  \\\n",
      "0      10.656         7.053     73.0                  2.515714   \n",
      "1       8.276         7.183     74.0                  2.672714   \n",
      "2      22.784         5.744     98.0                 32.033857   \n",
      "3      11.530         6.543    109.0                 14.834857   \n",
      "4      86.624         8.207    121.0                 17.367714   \n",
      "\n",
      "   casts_popularity_sum  top_cast_popularity  top_crews_popularity_avg  \\\n",
      "0                43.183                3.574                  2.277857   \n",
      "1                40.189                3.469                  2.158429   \n",
      "2               362.055               36.681                 15.715714   \n",
      "3               124.008               23.049                  3.600143   \n",
      "4               297.868               37.206                  7.543000   \n",
      "\n",
      "   crews_popularity_sum  top_crew_popularity  \n",
      "0                36.045                2.936  \n",
      "1                28.203                2.936  \n",
      "2               225.920               27.939  \n",
      "3                32.165                5.436  \n",
      "4               121.872               10.994  \n"
     ]
    },
    {
     "name": "stderr",
     "output_type": "stream",
     "text": [
      "\n"
     ]
    }
   ],
   "source": [
    "#movie ID gets stats of movie\n",
    "#credit get \n",
    "\n",
    "#Get Movie Stats through MovieID\n",
    "rows = []\n",
    "\n",
    "col = ['budget', 'revenue', 'release_date', 'popularity', 'vote_average', 'runtime', 'top_casts_popularity_avg', 'casts_popularity_sum', 'top_cast_popularity',\n",
    "       'top_crews_popularity_avg', 'crews_popularity_sum', 'top_crew_popularity']\n",
    "for i in tqdm(range(len(movie_data))):\n",
    "    row = []\n",
    "    j = movie_data.iloc[i]['id']\n",
    "    resp = r.get(f'https://api.themoviedb.org/3/movie/{j}?api_key={API_KEY}')\n",
    "    try:\n",
    "        budget = resp.json()['budget']\n",
    "        if budget == 0:\n",
    "            row.append(np.nan)\n",
    "        else:\n",
    "            row.append(budget)\n",
    "    except KeyError:\n",
    "        row.append(np.nan)\n",
    "    try:\n",
    "        revenue = resp.json()['revenue']\n",
    "        if revenue == 0:\n",
    "            row.append(np.nan)\n",
    "        else:\n",
    "            row.append(revenue)\n",
    "    except KeyError:\n",
    "        row.append(np.nan)\n",
    "    try:\n",
    "        release = resp.json()['release_date'][0:4]\n",
    "        row.append(release)\n",
    "    except:\n",
    "        row.append(np.nan)\n",
    "    try:\n",
    "        remaining = resp.json()['popularity']\n",
    "        if(remaining == 0):\n",
    "            row.append(np.nan)\n",
    "        else:\n",
    "            row.append(remaining)\n",
    "    except:\n",
    "        row.append(np.nan)\n",
    "\n",
    "    try:\n",
    "        voteA = resp.json()['vote_average']\n",
    "        if(voteA == 0):\n",
    "            row.append(np.nan)\n",
    "        else:\n",
    "            row.append(voteA)\n",
    "    except:\n",
    "        row.append(np.nan)\n",
    "\n",
    "    try:\n",
    "        runtime = resp.json()['runtime']\n",
    "        if(runtime == 0):\n",
    "            row.append(np.nan)\n",
    "        else:\n",
    "            row.append(runtime)\n",
    "    except:\n",
    "        row.append(np.nan)\n",
    "\n",
    "    #credits part\n",
    "    resp = r.get(f'https://api.themoviedb.org/3/movie/{j}/credits?api_key=b4c353d61e8791dac39e77e69a2c08d3&language=en-US')\n",
    "    casts_stats = get_popularity_stats(resp, 'cast')\n",
    "\n",
    "    row.append(casts_stats['avg'])\n",
    "    row.append(casts_stats['sum'])\n",
    "    row.append(casts_stats['top'])\n",
    "        \n",
    "    # Get crews' popularity statistics from the movie\n",
    "    crews_stats = get_popularity_stats(resp, 'crew')\n",
    "        \n",
    "    # Append to row\n",
    "    row.append(crews_stats['avg'])\n",
    "    row.append(crews_stats['sum'])\n",
    "    row.append(crews_stats['top'])\n",
    "\n",
    "    rows.append(row)\n",
    "\n",
    "property = pd.DataFrame(rows, columns = col)\n",
    "\n",
    "combine = pd.concat([movie_data, property], axis=1)\n",
    "\n",
    "\n",
    "print(combine.head(5))\n"
   ]
  },
  {
   "attachments": {},
   "cell_type": "markdown",
   "metadata": {},
   "source": [
    "## Extracting for furthur use\n",
    "Extracted into a CSV file such that we will not need to query and extract data that took a while to download from"
   ]
  },
  {
   "cell_type": "code",
   "execution_count": 13,
   "metadata": {},
   "outputs": [],
   "source": [
    "combine.to_csv('datasets/test.csv')"
   ]
  }
 ],
 "metadata": {
  "kernelspec": {
   "display_name": "Python 3",
   "language": "python",
   "name": "python3"
  },
  "language_info": {
   "codemirror_mode": {
    "name": "ipython",
    "version": 3
   },
   "file_extension": ".py",
   "mimetype": "text/x-python",
   "name": "python",
   "nbconvert_exporter": "python",
   "pygments_lexer": "ipython3",
   "version": "3.10.6"
  },
  "orig_nbformat": 4
 },
 "nbformat": 4,
 "nbformat_minor": 2
}
