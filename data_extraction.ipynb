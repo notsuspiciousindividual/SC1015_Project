{
 "cells": [
  {
   "attachments": {},
   "cell_type": "markdown",
   "metadata": {},
   "source": [
    "# Extracting data from MovieAPI DataBase\n",
    "We realize that there is a limit but worked around to find that MovieAPI does a daily dump for us"
   ]
  },
  {
   "cell_type": "code",
   "execution_count": 38,
   "metadata": {},
   "outputs": [],
   "source": [
    "# For data processing\n",
    "import numpy as np\n",
    "import pandas as pd\n",
    "\n",
    "# For API usage\n",
    "import requests as r\n",
    "\n",
    "#our lifesaver, the progress bar\n",
    "from tqdm import tqdm"
   ]
  },
  {
   "cell_type": "code",
   "execution_count": 8,
   "metadata": {},
   "outputs": [
    {
     "name": "stdout",
     "output_type": "stream",
     "text": [
      "adult                bool\n",
      "id                  int64\n",
      "original_title     object\n",
      "popularity        float64\n",
      "video                bool\n",
      "dtype: object\n",
      "   adult     id                      original_title  popularity  video\n",
      "0  False   3924                             Blondie       3.502  False\n",
      "1  False   6124                 Der Mann ohne Namen       0.600  False\n",
      "2  False   8773                 L'Amour à vingt ans       2.722  False\n",
      "3  False  25449  New World Disorder 9: Never Enough       1.097  False\n",
      "4  False  31975      Sesame Street: Elmo Loves You!       0.600   True\n"
     ]
    }
   ],
   "source": [
    "#API Key \n",
    "API_KEY = 'b4c353d61e8791dac39e77e69a2c08d3' \n",
    "\n",
    "##This is to extract our the whole database from their daily dump\n",
    "simple_extract = pd.read_json('datasets/movie_ids_03_25_2023.json', lines=True)\n",
    "print(simple_extract.dtypes)\n",
    "print(simple_extract.head(5))\n",
    " "
   ]
  },
  {
   "cell_type": "code",
   "execution_count": 22,
   "metadata": {},
   "outputs": [
    {
     "name": "stdout",
     "output_type": "stream",
     "text": [
      "   adult     id                      original_title  popularity  video\n",
      "0  False   3924                             Blondie       3.502  False\n",
      "1  False   6124                 Der Mann ohne Namen       0.600  False\n",
      "2  False   8773                 L'Amour à vingt ans       2.722  False\n",
      "3  False  25449  New World Disorder 9: Never Enough       1.097  False\n",
      "5  False      2                               Ariel       9.553  False\n",
      "[False]\n",
      "[False]\n"
     ]
    }
   ],
   "source": [
    "cleanedSimple_data = simple_extract.drop(simple_extract[(simple_extract['adult'] == True) | (simple_extract['video'] == True)].index)\n",
    "print(cleanedSimple_data.head(5))\n",
    "\n",
    "#Verify adult videos and videos are false\n",
    "print(cleanedSimple_data['adult'].unique())\n",
    "print(cleanedSimple_data['video'].unique())"
   ]
  },
  {
   "cell_type": "code",
   "execution_count": 40,
   "metadata": {},
   "outputs": [
    {
     "name": "stdout",
     "output_type": "stream",
     "text": [
      "   id                    original_title  popularity\n",
      "5   2                             Ariel       9.553\n",
      "6   3              Varjoja paratiisissa       9.228\n",
      "7   5                        Four Rooms      18.254\n",
      "8   6                    Judgment Night      11.309\n",
      "9   8  Life in Loops (A Megacities RMX)       2.516\n"
     ]
    }
   ],
   "source": [
    "#We'll only need our ID column for this to create our actual dataset\n",
    "movie_data = cleanedSimple_data.drop(columns=['adult','video'])\n",
    "movie_data = movie_data.sort_values(by=['id'])\n",
    "print(movie_data.head(5))"
   ]
  },
  {
   "cell_type": "code",
   "execution_count": 39,
   "metadata": {},
   "outputs": [
    {
     "name": "stderr",
     "output_type": "stream",
     "text": [
      "  0%|          | 0/751618 [00:00<?, ?it/s]\n"
     ]
    },
    {
     "ename": "TypeError",
     "evalue": "'int' object is not subscriptable",
     "output_type": "error",
     "traceback": [
      "\u001b[1;31m---------------------------------------------------------------------------\u001b[0m",
      "\u001b[1;31mTypeError\u001b[0m                                 Traceback (most recent call last)",
      "Cell \u001b[1;32mIn[39], line 7\u001b[0m\n\u001b[0;32m      5\u001b[0m cols \u001b[39m=\u001b[39m [\u001b[39m'\u001b[39m\u001b[39mrelease_date\u001b[39m\u001b[39m'\u001b[39m,\u001b[39m'\u001b[39m\u001b[39mvote_average\u001b[39m\u001b[39m'\u001b[39m, \u001b[39m'\u001b[39m\u001b[39mpopularity\u001b[39m\u001b[39m'\u001b[39m, \u001b[39m'\u001b[39m\u001b[39mbudget\u001b[39m\u001b[39m'\u001b[39m,\u001b[39m'\u001b[39m\u001b[39mrevenue\u001b[39m\u001b[39m'\u001b[39m]\n\u001b[0;32m      6\u001b[0m \u001b[39mfor\u001b[39;00m i \u001b[39min\u001b[39;00m tqdm(\u001b[39mrange\u001b[39m(\u001b[39mlen\u001b[39m(movie_data))):\n\u001b[1;32m----> 7\u001b[0m     i \u001b[39m=\u001b[39m i[\u001b[39m'\u001b[39;49m\u001b[39mid\u001b[39;49m\u001b[39m'\u001b[39;49m]\n\u001b[0;32m      8\u001b[0m     resp \u001b[39m=\u001b[39m r\u001b[39m.\u001b[39mget(\u001b[39mf\u001b[39m\u001b[39m'\u001b[39m\u001b[39mhttps://api.themoviedb.org/3/movie/\u001b[39m\u001b[39m{\u001b[39;00mi\u001b[39m}\u001b[39;00m\u001b[39m?api_key=\u001b[39m\u001b[39m{\u001b[39;00mAPI_KEY\u001b[39m}\u001b[39;00m\u001b[39m'\u001b[39m)\n\u001b[0;32m      9\u001b[0m     rows \u001b[39m=\u001b[39m []\n",
      "\u001b[1;31mTypeError\u001b[0m: 'int' object is not subscriptable"
     ]
    }
   ],
   "source": [
    "#movie ID gets stats of movie\n",
    "#credit get \n",
    "\n",
    "#Get Movie Stats through MovieID\n",
    "cols = ['release_date','vote_average', 'popularity', 'budget','revenue']\n",
    "for i in tqdm(range(len(movie_data))):\n",
    "    i = movie_data[i]\n",
    "    resp = r.get(f'https://api.themoviedb.org/3/movie/{i}?api_key={API_KEY}')\n",
    "    rows = []\n",
    "    try:\n",
    "        budget = resp.json()['budget']\n",
    "        if(budget == 0):\n",
    "            movie_data['budget'] = np.nan\n",
    "        else:\n",
    "            movie_data['budget'] = budget\n",
    "    except KeyError:\n",
    "        movie_data['budget'] = np.nan\n",
    "    try:\n",
    "        revenue = resp.json()['revenue']\n",
    "        if(revenue == 0):\n",
    "            movie_data['revenue'] = np.nan\n",
    "        else:\n",
    "            movie_data['revenue'] = revenue\n",
    "    except KeyError:\n",
    "        movie_data['revenue'] = np.nan\n",
    "    try:\n",
    "        release = resp.json()['release_date'][0:4]\n",
    "        movie_data['release_date'] = release\n",
    "    except:\n",
    "        rows.append(np.nan)\n",
    "    \n",
    "    try:\n",
    "        remaining = resp.json()['popularity']\n",
    "        if(remaining == 0):\n",
    "            movie_data['popularity'] = np.nan\n",
    "        else:\n",
    "            movie_data['popularity'] = remaining\n",
    "    except:\n",
    "        movie_data['popularity'] = np.nan\n",
    "\n",
    "    try:\n",
    "        remaining = resp.json()['vote_average']\n",
    "        if(remaining == 0):\n",
    "            movie_data['vote_average'] = np.nan\n",
    "        else:\n",
    "            movie_data['vote_average'] = remaining\n",
    "    except:\n",
    "        movie_data['vote_average'] = np.nan\n",
    "\n",
    "print(movie_data.head(5))\n"
   ]
  }
 ],
 "metadata": {
  "kernelspec": {
   "display_name": "Python 3",
   "language": "python",
   "name": "python3"
  },
  "language_info": {
   "codemirror_mode": {
    "name": "ipython",
    "version": 3
   },
   "file_extension": ".py",
   "mimetype": "text/x-python",
   "name": "python",
   "nbconvert_exporter": "python",
   "pygments_lexer": "ipython3",
   "version": "3.10.7"
  },
  "orig_nbformat": 4
 },
 "nbformat": 4,
 "nbformat_minor": 2
}
