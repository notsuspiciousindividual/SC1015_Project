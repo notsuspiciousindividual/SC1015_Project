{
 "cells": [
  {
   "attachments": {},
   "cell_type": "markdown",
   "metadata": {},
   "source": [
    "## Data cleaning of movie data set"
   ]
  },
  {
   "attachments": {},
   "cell_type": "markdown",
   "metadata": {},
   "source": [
    "### Trying to reduce data size of 18000++ \n",
    "\n",
    "#### We will be doing this by dropping movies without release_date, budget and revenue(if both are missing, since it becomes inaccurate to fill in 2 unknown values) since they do not provide any meaning without these values. We will also drop movie whose release data are before 1927 and after 2022 as we are not concerned with those time periods since oscar starts for movies from 1927 till present.\n",
    "\n",
    "#### The assumption is that movies without both budget and revenue will not be able to provide much value to our dataset"
   ]
  },
  {
   "cell_type": "code",
   "execution_count": 2,
   "metadata": {},
   "outputs": [],
   "source": [
    "import pandas as pd\n",
    "import numpy as np\n",
    "from tqdm import tqdm\n",
    "import math\n",
    "from sklearn.impute import SimpleImputer"
   ]
  },
  {
   "attachments": {},
   "cell_type": "markdown",
   "metadata": {},
   "source": [
    "Importing csv data and viewing first 5 rows\n"
   ]
  },
  {
   "cell_type": "code",
   "execution_count": 3,
   "metadata": {},
   "outputs": [
    {
     "data": {
      "text/html": [
       "<div>\n",
       "<style scoped>\n",
       "    .dataframe tbody tr th:only-of-type {\n",
       "        vertical-align: middle;\n",
       "    }\n",
       "\n",
       "    .dataframe tbody tr th {\n",
       "        vertical-align: top;\n",
       "    }\n",
       "\n",
       "    .dataframe thead th {\n",
       "        text-align: right;\n",
       "    }\n",
       "</style>\n",
       "<table border=\"1\" class=\"dataframe\">\n",
       "  <thead>\n",
       "    <tr style=\"text-align: right;\">\n",
       "      <th></th>\n",
       "      <th>Index</th>\n",
       "      <th>id</th>\n",
       "      <th>original_title</th>\n",
       "      <th>popularity</th>\n",
       "      <th>budget</th>\n",
       "      <th>revenue</th>\n",
       "      <th>release_date</th>\n",
       "      <th>popularity.1</th>\n",
       "      <th>vote_average</th>\n",
       "      <th>runtime</th>\n",
       "      <th>top_casts_popularity_avg</th>\n",
       "      <th>casts_popularity_sum</th>\n",
       "      <th>top_cast_popularity</th>\n",
       "      <th>top_crews_popularity_avg</th>\n",
       "      <th>crews_popularity_sum</th>\n",
       "      <th>top_crew_popularity</th>\n",
       "    </tr>\n",
       "  </thead>\n",
       "  <tbody>\n",
       "    <tr>\n",
       "      <th>0</th>\n",
       "      <td>0</td>\n",
       "      <td>2</td>\n",
       "      <td>Ariel</td>\n",
       "      <td>9.553</td>\n",
       "      <td>NaN</td>\n",
       "      <td>NaN</td>\n",
       "      <td>1988.0</td>\n",
       "      <td>10.656</td>\n",
       "      <td>7.053</td>\n",
       "      <td>73.0</td>\n",
       "      <td>2.515714</td>\n",
       "      <td>43.183</td>\n",
       "      <td>3.574</td>\n",
       "      <td>2.277857</td>\n",
       "      <td>36.045</td>\n",
       "      <td>2.936</td>\n",
       "    </tr>\n",
       "    <tr>\n",
       "      <th>1</th>\n",
       "      <td>1</td>\n",
       "      <td>3</td>\n",
       "      <td>Varjoja paratiisissa</td>\n",
       "      <td>9.228</td>\n",
       "      <td>NaN</td>\n",
       "      <td>NaN</td>\n",
       "      <td>1986.0</td>\n",
       "      <td>8.276</td>\n",
       "      <td>7.183</td>\n",
       "      <td>74.0</td>\n",
       "      <td>2.672714</td>\n",
       "      <td>40.189</td>\n",
       "      <td>3.469</td>\n",
       "      <td>2.158429</td>\n",
       "      <td>28.203</td>\n",
       "      <td>2.936</td>\n",
       "    </tr>\n",
       "    <tr>\n",
       "      <th>2</th>\n",
       "      <td>2</td>\n",
       "      <td>5</td>\n",
       "      <td>Four Rooms</td>\n",
       "      <td>18.254</td>\n",
       "      <td>4000000.0</td>\n",
       "      <td>4257354.0</td>\n",
       "      <td>1995.0</td>\n",
       "      <td>22.784</td>\n",
       "      <td>5.744</td>\n",
       "      <td>98.0</td>\n",
       "      <td>32.033857</td>\n",
       "      <td>362.055</td>\n",
       "      <td>36.681</td>\n",
       "      <td>15.715714</td>\n",
       "      <td>225.920</td>\n",
       "      <td>27.939</td>\n",
       "    </tr>\n",
       "    <tr>\n",
       "      <th>3</th>\n",
       "      <td>3</td>\n",
       "      <td>6</td>\n",
       "      <td>Judgment Night</td>\n",
       "      <td>11.309</td>\n",
       "      <td>21000000.0</td>\n",
       "      <td>12136938.0</td>\n",
       "      <td>1993.0</td>\n",
       "      <td>11.530</td>\n",
       "      <td>6.543</td>\n",
       "      <td>109.0</td>\n",
       "      <td>14.834857</td>\n",
       "      <td>124.008</td>\n",
       "      <td>23.049</td>\n",
       "      <td>3.600143</td>\n",
       "      <td>32.165</td>\n",
       "      <td>5.436</td>\n",
       "    </tr>\n",
       "    <tr>\n",
       "      <th>4</th>\n",
       "      <td>4</td>\n",
       "      <td>11</td>\n",
       "      <td>Star Wars</td>\n",
       "      <td>87.513</td>\n",
       "      <td>11000000.0</td>\n",
       "      <td>775398007.0</td>\n",
       "      <td>1977.0</td>\n",
       "      <td>86.624</td>\n",
       "      <td>8.207</td>\n",
       "      <td>121.0</td>\n",
       "      <td>17.367714</td>\n",
       "      <td>297.868</td>\n",
       "      <td>37.206</td>\n",
       "      <td>7.543000</td>\n",
       "      <td>121.872</td>\n",
       "      <td>10.994</td>\n",
       "    </tr>\n",
       "  </tbody>\n",
       "</table>\n",
       "</div>"
      ],
      "text/plain": [
       "   Index  id        original_title  popularity      budget      revenue  \\\n",
       "0      0   2                 Ariel       9.553         NaN          NaN   \n",
       "1      1   3  Varjoja paratiisissa       9.228         NaN          NaN   \n",
       "2      2   5            Four Rooms      18.254   4000000.0    4257354.0   \n",
       "3      3   6        Judgment Night      11.309  21000000.0   12136938.0   \n",
       "4      4  11             Star Wars      87.513  11000000.0  775398007.0   \n",
       "\n",
       "   release_date  popularity.1  vote_average  runtime  \\\n",
       "0        1988.0        10.656         7.053     73.0   \n",
       "1        1986.0         8.276         7.183     74.0   \n",
       "2        1995.0        22.784         5.744     98.0   \n",
       "3        1993.0        11.530         6.543    109.0   \n",
       "4        1977.0        86.624         8.207    121.0   \n",
       "\n",
       "   top_casts_popularity_avg  casts_popularity_sum  top_cast_popularity  \\\n",
       "0                  2.515714                43.183                3.574   \n",
       "1                  2.672714                40.189                3.469   \n",
       "2                 32.033857               362.055               36.681   \n",
       "3                 14.834857               124.008               23.049   \n",
       "4                 17.367714               297.868               37.206   \n",
       "\n",
       "   top_crews_popularity_avg  crews_popularity_sum  top_crew_popularity  \n",
       "0                  2.277857                36.045                2.936  \n",
       "1                  2.158429                28.203                2.936  \n",
       "2                 15.715714               225.920               27.939  \n",
       "3                  3.600143                32.165                5.436  \n",
       "4                  7.543000               121.872               10.994  "
      ]
     },
     "execution_count": 3,
     "metadata": {},
     "output_type": "execute_result"
    }
   ],
   "source": [
    "data = pd.read_csv(\"MovieData.csv\")\n",
    "data.head()"
   ]
  },
  {
   "cell_type": "code",
   "execution_count": 4,
   "metadata": {},
   "outputs": [
    {
     "name": "stdout",
     "output_type": "stream",
     "text": [
      "<class 'pandas.core.frame.DataFrame'>\n",
      "RangeIndex: 18350 entries, 0 to 18349\n",
      "Data columns (total 16 columns):\n",
      " #   Column                    Non-Null Count  Dtype  \n",
      "---  ------                    --------------  -----  \n",
      " 0   Index                     18350 non-null  int64  \n",
      " 1   id                        18350 non-null  int64  \n",
      " 2   original_title            18350 non-null  object \n",
      " 3   popularity                18350 non-null  float64\n",
      " 4   budget                    8064 non-null   float64\n",
      " 5   revenue                   8417 non-null   float64\n",
      " 6   release_date              18319 non-null  float64\n",
      " 7   popularity.1              18349 non-null  float64\n",
      " 8   vote_average              17894 non-null  float64\n",
      " 9   runtime                   18063 non-null  float64\n",
      " 10  top_casts_popularity_avg  18154 non-null  float64\n",
      " 11  casts_popularity_sum      18154 non-null  float64\n",
      " 12  top_cast_popularity       18154 non-null  float64\n",
      " 13  top_crews_popularity_avg  18256 non-null  float64\n",
      " 14  crews_popularity_sum      18256 non-null  float64\n",
      " 15  top_crew_popularity       18256 non-null  float64\n",
      "dtypes: float64(13), int64(2), object(1)\n",
      "memory usage: 2.2+ MB\n"
     ]
    },
    {
     "data": {
      "text/plain": [
       "18350"
      ]
     },
     "execution_count": 4,
     "metadata": {},
     "output_type": "execute_result"
    }
   ],
   "source": [
    "data.info()\n",
    "data.shape[0]\n"
   ]
  },
  {
   "attachments": {},
   "cell_type": "markdown",
   "metadata": {},
   "source": [
    "There are 18350 rows"
   ]
  },
  {
   "attachments": {},
   "cell_type": "markdown",
   "metadata": {},
   "source": [
    "Restting index in case the indexing is not in order"
   ]
  },
  {
   "cell_type": "code",
   "execution_count": 5,
   "metadata": {},
   "outputs": [
    {
     "data": {
      "text/html": [
       "<div>\n",
       "<style scoped>\n",
       "    .dataframe tbody tr th:only-of-type {\n",
       "        vertical-align: middle;\n",
       "    }\n",
       "\n",
       "    .dataframe tbody tr th {\n",
       "        vertical-align: top;\n",
       "    }\n",
       "\n",
       "    .dataframe thead th {\n",
       "        text-align: right;\n",
       "    }\n",
       "</style>\n",
       "<table border=\"1\" class=\"dataframe\">\n",
       "  <thead>\n",
       "    <tr style=\"text-align: right;\">\n",
       "      <th></th>\n",
       "      <th>Index</th>\n",
       "      <th>id</th>\n",
       "      <th>original_title</th>\n",
       "      <th>popularity</th>\n",
       "      <th>budget</th>\n",
       "      <th>revenue</th>\n",
       "      <th>release_date</th>\n",
       "      <th>popularity.1</th>\n",
       "      <th>vote_average</th>\n",
       "      <th>runtime</th>\n",
       "      <th>top_casts_popularity_avg</th>\n",
       "      <th>casts_popularity_sum</th>\n",
       "      <th>top_cast_popularity</th>\n",
       "      <th>top_crews_popularity_avg</th>\n",
       "      <th>crews_popularity_sum</th>\n",
       "      <th>top_crew_popularity</th>\n",
       "    </tr>\n",
       "  </thead>\n",
       "  <tbody>\n",
       "    <tr>\n",
       "      <th>0</th>\n",
       "      <td>0</td>\n",
       "      <td>2</td>\n",
       "      <td>Ariel</td>\n",
       "      <td>9.553</td>\n",
       "      <td>NaN</td>\n",
       "      <td>NaN</td>\n",
       "      <td>1988.0</td>\n",
       "      <td>10.656</td>\n",
       "      <td>7.053</td>\n",
       "      <td>73.0</td>\n",
       "      <td>2.515714</td>\n",
       "      <td>43.183</td>\n",
       "      <td>3.574</td>\n",
       "      <td>2.277857</td>\n",
       "      <td>36.045</td>\n",
       "      <td>2.936</td>\n",
       "    </tr>\n",
       "    <tr>\n",
       "      <th>1</th>\n",
       "      <td>1</td>\n",
       "      <td>3</td>\n",
       "      <td>Varjoja paratiisissa</td>\n",
       "      <td>9.228</td>\n",
       "      <td>NaN</td>\n",
       "      <td>NaN</td>\n",
       "      <td>1986.0</td>\n",
       "      <td>8.276</td>\n",
       "      <td>7.183</td>\n",
       "      <td>74.0</td>\n",
       "      <td>2.672714</td>\n",
       "      <td>40.189</td>\n",
       "      <td>3.469</td>\n",
       "      <td>2.158429</td>\n",
       "      <td>28.203</td>\n",
       "      <td>2.936</td>\n",
       "    </tr>\n",
       "    <tr>\n",
       "      <th>2</th>\n",
       "      <td>2</td>\n",
       "      <td>5</td>\n",
       "      <td>Four Rooms</td>\n",
       "      <td>18.254</td>\n",
       "      <td>4000000.0</td>\n",
       "      <td>4257354.0</td>\n",
       "      <td>1995.0</td>\n",
       "      <td>22.784</td>\n",
       "      <td>5.744</td>\n",
       "      <td>98.0</td>\n",
       "      <td>32.033857</td>\n",
       "      <td>362.055</td>\n",
       "      <td>36.681</td>\n",
       "      <td>15.715714</td>\n",
       "      <td>225.920</td>\n",
       "      <td>27.939</td>\n",
       "    </tr>\n",
       "    <tr>\n",
       "      <th>3</th>\n",
       "      <td>3</td>\n",
       "      <td>6</td>\n",
       "      <td>Judgment Night</td>\n",
       "      <td>11.309</td>\n",
       "      <td>21000000.0</td>\n",
       "      <td>12136938.0</td>\n",
       "      <td>1993.0</td>\n",
       "      <td>11.530</td>\n",
       "      <td>6.543</td>\n",
       "      <td>109.0</td>\n",
       "      <td>14.834857</td>\n",
       "      <td>124.008</td>\n",
       "      <td>23.049</td>\n",
       "      <td>3.600143</td>\n",
       "      <td>32.165</td>\n",
       "      <td>5.436</td>\n",
       "    </tr>\n",
       "    <tr>\n",
       "      <th>4</th>\n",
       "      <td>4</td>\n",
       "      <td>11</td>\n",
       "      <td>Star Wars</td>\n",
       "      <td>87.513</td>\n",
       "      <td>11000000.0</td>\n",
       "      <td>775398007.0</td>\n",
       "      <td>1977.0</td>\n",
       "      <td>86.624</td>\n",
       "      <td>8.207</td>\n",
       "      <td>121.0</td>\n",
       "      <td>17.367714</td>\n",
       "      <td>297.868</td>\n",
       "      <td>37.206</td>\n",
       "      <td>7.543000</td>\n",
       "      <td>121.872</td>\n",
       "      <td>10.994</td>\n",
       "    </tr>\n",
       "    <tr>\n",
       "      <th>...</th>\n",
       "      <td>...</td>\n",
       "      <td>...</td>\n",
       "      <td>...</td>\n",
       "      <td>...</td>\n",
       "      <td>...</td>\n",
       "      <td>...</td>\n",
       "      <td>...</td>\n",
       "      <td>...</td>\n",
       "      <td>...</td>\n",
       "      <td>...</td>\n",
       "      <td>...</td>\n",
       "      <td>...</td>\n",
       "      <td>...</td>\n",
       "      <td>...</td>\n",
       "      <td>...</td>\n",
       "      <td>...</td>\n",
       "    </tr>\n",
       "    <tr>\n",
       "      <th>18345</th>\n",
       "      <td>18345</td>\n",
       "      <td>1101747</td>\n",
       "      <td>Despierta</td>\n",
       "      <td>10.543</td>\n",
       "      <td>NaN</td>\n",
       "      <td>NaN</td>\n",
       "      <td>2023.0</td>\n",
       "      <td>3.430</td>\n",
       "      <td>2.000</td>\n",
       "      <td>11.0</td>\n",
       "      <td>1.848500</td>\n",
       "      <td>3.697</td>\n",
       "      <td>2.937</td>\n",
       "      <td>1.064000</td>\n",
       "      <td>1.064</td>\n",
       "      <td>1.064</td>\n",
       "    </tr>\n",
       "    <tr>\n",
       "      <th>18346</th>\n",
       "      <td>18346</td>\n",
       "      <td>1101748</td>\n",
       "      <td>I am Poem</td>\n",
       "      <td>10.543</td>\n",
       "      <td>NaN</td>\n",
       "      <td>NaN</td>\n",
       "      <td>2023.0</td>\n",
       "      <td>3.391</td>\n",
       "      <td>NaN</td>\n",
       "      <td>15.0</td>\n",
       "      <td>0.600000</td>\n",
       "      <td>2.400</td>\n",
       "      <td>0.600</td>\n",
       "      <td>0.600000</td>\n",
       "      <td>0.600</td>\n",
       "      <td>0.600</td>\n",
       "    </tr>\n",
       "    <tr>\n",
       "      <th>18347</th>\n",
       "      <td>18347</td>\n",
       "      <td>1101750</td>\n",
       "      <td>El olvido</td>\n",
       "      <td>10.543</td>\n",
       "      <td>NaN</td>\n",
       "      <td>NaN</td>\n",
       "      <td>2023.0</td>\n",
       "      <td>4.587</td>\n",
       "      <td>2.000</td>\n",
       "      <td>8.0</td>\n",
       "      <td>0.600000</td>\n",
       "      <td>1.800</td>\n",
       "      <td>0.600</td>\n",
       "      <td>0.600000</td>\n",
       "      <td>0.600</td>\n",
       "      <td>0.600</td>\n",
       "    </tr>\n",
       "    <tr>\n",
       "      <th>18348</th>\n",
       "      <td>18348</td>\n",
       "      <td>1101848</td>\n",
       "      <td>Gaia</td>\n",
       "      <td>10.543</td>\n",
       "      <td>NaN</td>\n",
       "      <td>NaN</td>\n",
       "      <td>2023.0</td>\n",
       "      <td>5.061</td>\n",
       "      <td>NaN</td>\n",
       "      <td>9.0</td>\n",
       "      <td>0.600000</td>\n",
       "      <td>1.200</td>\n",
       "      <td>0.600</td>\n",
       "      <td>0.600000</td>\n",
       "      <td>1.200</td>\n",
       "      <td>0.600</td>\n",
       "    </tr>\n",
       "    <tr>\n",
       "      <th>18349</th>\n",
       "      <td>18349</td>\n",
       "      <td>1101868</td>\n",
       "      <td>Peace (Black Tape)</td>\n",
       "      <td>10.543</td>\n",
       "      <td>NaN</td>\n",
       "      <td>NaN</td>\n",
       "      <td>2023.0</td>\n",
       "      <td>3.636</td>\n",
       "      <td>NaN</td>\n",
       "      <td>20.0</td>\n",
       "      <td>NaN</td>\n",
       "      <td>NaN</td>\n",
       "      <td>NaN</td>\n",
       "      <td>0.600000</td>\n",
       "      <td>1.200</td>\n",
       "      <td>0.600</td>\n",
       "    </tr>\n",
       "  </tbody>\n",
       "</table>\n",
       "<p>18350 rows × 16 columns</p>\n",
       "</div>"
      ],
      "text/plain": [
       "       Index       id        original_title  popularity      budget  \\\n",
       "0          0        2                 Ariel       9.553         NaN   \n",
       "1          1        3  Varjoja paratiisissa       9.228         NaN   \n",
       "2          2        5            Four Rooms      18.254   4000000.0   \n",
       "3          3        6        Judgment Night      11.309  21000000.0   \n",
       "4          4       11             Star Wars      87.513  11000000.0   \n",
       "...      ...      ...                   ...         ...         ...   \n",
       "18345  18345  1101747             Despierta      10.543         NaN   \n",
       "18346  18346  1101748             I am Poem      10.543         NaN   \n",
       "18347  18347  1101750             El olvido      10.543         NaN   \n",
       "18348  18348  1101848                  Gaia      10.543         NaN   \n",
       "18349  18349  1101868    Peace (Black Tape)      10.543         NaN   \n",
       "\n",
       "           revenue  release_date  popularity.1  vote_average  runtime  \\\n",
       "0              NaN        1988.0        10.656         7.053     73.0   \n",
       "1              NaN        1986.0         8.276         7.183     74.0   \n",
       "2        4257354.0        1995.0        22.784         5.744     98.0   \n",
       "3       12136938.0        1993.0        11.530         6.543    109.0   \n",
       "4      775398007.0        1977.0        86.624         8.207    121.0   \n",
       "...            ...           ...           ...           ...      ...   \n",
       "18345          NaN        2023.0         3.430         2.000     11.0   \n",
       "18346          NaN        2023.0         3.391           NaN     15.0   \n",
       "18347          NaN        2023.0         4.587         2.000      8.0   \n",
       "18348          NaN        2023.0         5.061           NaN      9.0   \n",
       "18349          NaN        2023.0         3.636           NaN     20.0   \n",
       "\n",
       "       top_casts_popularity_avg  casts_popularity_sum  top_cast_popularity  \\\n",
       "0                      2.515714                43.183                3.574   \n",
       "1                      2.672714                40.189                3.469   \n",
       "2                     32.033857               362.055               36.681   \n",
       "3                     14.834857               124.008               23.049   \n",
       "4                     17.367714               297.868               37.206   \n",
       "...                         ...                   ...                  ...   \n",
       "18345                  1.848500                 3.697                2.937   \n",
       "18346                  0.600000                 2.400                0.600   \n",
       "18347                  0.600000                 1.800                0.600   \n",
       "18348                  0.600000                 1.200                0.600   \n",
       "18349                       NaN                   NaN                  NaN   \n",
       "\n",
       "       top_crews_popularity_avg  crews_popularity_sum  top_crew_popularity  \n",
       "0                      2.277857                36.045                2.936  \n",
       "1                      2.158429                28.203                2.936  \n",
       "2                     15.715714               225.920               27.939  \n",
       "3                      3.600143                32.165                5.436  \n",
       "4                      7.543000               121.872               10.994  \n",
       "...                         ...                   ...                  ...  \n",
       "18345                  1.064000                 1.064                1.064  \n",
       "18346                  0.600000                 0.600                0.600  \n",
       "18347                  0.600000                 0.600                0.600  \n",
       "18348                  0.600000                 1.200                0.600  \n",
       "18349                  0.600000                 1.200                0.600  \n",
       "\n",
       "[18350 rows x 16 columns]"
      ]
     },
     "execution_count": 5,
     "metadata": {},
     "output_type": "execute_result"
    }
   ],
   "source": [
    "data.reset_index(drop=True)"
   ]
  },
  {
   "attachments": {},
   "cell_type": "markdown",
   "metadata": {},
   "source": [
    "Dropping rows where both \"budget\" and \"revenue\" are both null values since it would be difficult to fill in values using strategies like median when we do not know how inflation will affect these variables"
   ]
  },
  {
   "cell_type": "code",
   "execution_count": 113,
   "metadata": {},
   "outputs": [
    {
     "name": "stderr",
     "output_type": "stream",
     "text": [
      "100%|██████████| 18350/18350 [00:21<00:00, 863.60it/s] \n"
     ]
    }
   ],
   "source": [
    "for i in tqdm(range(18350)):\n",
    "    data.dropna(subset=[\"budget\",\"revenue\"],how=\"all\",inplace=True,axis =0)"
   ]
  },
  {
   "attachments": {},
   "cell_type": "markdown",
   "metadata": {},
   "source": [
    "The data now has 9983 entries"
   ]
  },
  {
   "cell_type": "code",
   "execution_count": 6,
   "metadata": {},
   "outputs": [
    {
     "name": "stdout",
     "output_type": "stream",
     "text": [
      "(18350, 16)\n",
      "False    18319\n",
      "True        31\n",
      "Name: release_date, dtype: int64\n"
     ]
    }
   ],
   "source": [
    "print(data.shape)\n",
    "print(data[\"release_date\"].isnull().value_counts())"
   ]
  },
  {
   "attachments": {},
   "cell_type": "markdown",
   "metadata": {},
   "source": [
    "From the values, it looks like there are no movies with missing release_date"
   ]
  },
  {
   "attachments": {},
   "cell_type": "markdown",
   "metadata": {},
   "source": [
    "Excluding movies whose release data are before 1927 and after 2022 since first oscar was for movies released at 1927 and latest oscar is for movies released at 2022"
   ]
  },
  {
   "cell_type": "code",
   "execution_count": 14,
   "metadata": {},
   "outputs": [
    {
     "data": {
      "text/plain": [
       "(17656, 16)"
      ]
     },
     "execution_count": 14,
     "metadata": {},
     "output_type": "execute_result"
    }
   ],
   "source": [
    "data = pd.DataFrame(data[(data[\"release_date\"]<=2022) & (data[\"release_date\"]>=1927)])\n",
    "data.shape"
   ]
  },
  {
   "cell_type": "code",
   "execution_count": 146,
   "metadata": {},
   "outputs": [],
   "source": [
    "data2 = data.drop([\"Index\"],axis=1)\n",
    "data2=data2.reset_index(drop=True)"
   ]
  },
  {
   "attachments": {},
   "cell_type": "markdown",
   "metadata": {},
   "source": [
    "obtaining percentage revenue based on budget (revenue/budget)*100% to compare percentage rather than aboslute values to account for inflation"
   ]
  },
  {
   "cell_type": "code",
   "execution_count": 148,
   "metadata": {},
   "outputs": [],
   "source": [
    "percentage_revenue =[]\n",
    "for k in range(0,9882):\n",
    "    if(math.isnan(data2.iloc[k].at[\"revenue\"]) or math.isnan(data2.iloc[k].at[\"budget\"])):\n",
    "        percentage_revenue.append(np.nan)\n",
    "    else:\n",
    "        percent = round(((data2.iloc[k].at[\"revenue\"])/(data2.iloc[k].at[\"budget\"])*100),2)\n",
    "        percentage_revenue.append(percent)"
   ]
  },
  {
   "cell_type": "code",
   "execution_count": 149,
   "metadata": {},
   "outputs": [
    {
     "name": "stdout",
     "output_type": "stream",
     "text": [
      "9882\n",
      "      percentage_revenue\n",
      "0                 106.43\n",
      "1                  57.79\n",
      "2                7049.07\n",
      "3                1000.36\n",
      "4                1231.61\n",
      "...                  ...\n",
      "9877                 NaN\n",
      "9878                 NaN\n",
      "9879                 NaN\n",
      "9880                 NaN\n",
      "9881                 NaN\n",
      "\n",
      "[9882 rows x 1 columns]\n"
     ]
    }
   ],
   "source": [
    "print(len(percentage_revenue))\n",
    "p_revenue={}\n",
    "p_revenue[\"percentage_revenue\"]=percentage_revenue\n",
    "percent_revenue = pd.DataFrame(p_revenue)\n",
    "print(percent_revenue)\n",
    "data3 = pd.concat([data2,percent_revenue],axis=1)\n"
   ]
  },
  {
   "attachments": {},
   "cell_type": "markdown",
   "metadata": {},
   "source": [
    "Importing csv file which contains all best picture winning movies from 1927 to 2022"
   ]
  },
  {
   "cell_type": "code",
   "execution_count": 10,
   "metadata": {},
   "outputs": [],
   "source": [
    "winners = pd.read_csv(\"someWinners.csv\")"
   ]
  },
  {
   "cell_type": "code",
   "execution_count": 11,
   "metadata": {},
   "outputs": [
    {
     "data": {
      "text/html": [
       "<div>\n",
       "<style scoped>\n",
       "    .dataframe tbody tr th:only-of-type {\n",
       "        vertical-align: middle;\n",
       "    }\n",
       "\n",
       "    .dataframe tbody tr th {\n",
       "        vertical-align: top;\n",
       "    }\n",
       "\n",
       "    .dataframe thead th {\n",
       "        text-align: right;\n",
       "    }\n",
       "</style>\n",
       "<table border=\"1\" class=\"dataframe\">\n",
       "  <thead>\n",
       "    <tr style=\"text-align: right;\">\n",
       "      <th></th>\n",
       "      <th>Index</th>\n",
       "      <th>year_film</th>\n",
       "      <th>film</th>\n",
       "      <th>winner</th>\n",
       "    </tr>\n",
       "  </thead>\n",
       "  <tbody>\n",
       "    <tr>\n",
       "      <th>0</th>\n",
       "      <td>0</td>\n",
       "      <td>1927</td>\n",
       "      <td>The Last Command</td>\n",
       "      <td>True</td>\n",
       "    </tr>\n",
       "    <tr>\n",
       "      <th>1</th>\n",
       "      <td>1</td>\n",
       "      <td>1927</td>\n",
       "      <td>7th Heaven</td>\n",
       "      <td>True</td>\n",
       "    </tr>\n",
       "    <tr>\n",
       "      <th>2</th>\n",
       "      <td>2</td>\n",
       "      <td>1927</td>\n",
       "      <td>Wings</td>\n",
       "      <td>True</td>\n",
       "    </tr>\n",
       "    <tr>\n",
       "      <th>3</th>\n",
       "      <td>3</td>\n",
       "      <td>1928</td>\n",
       "      <td>In Old Arizona</td>\n",
       "      <td>True</td>\n",
       "    </tr>\n",
       "    <tr>\n",
       "      <th>4</th>\n",
       "      <td>4</td>\n",
       "      <td>1928</td>\n",
       "      <td>Coquette</td>\n",
       "      <td>True</td>\n",
       "    </tr>\n",
       "  </tbody>\n",
       "</table>\n",
       "</div>"
      ],
      "text/plain": [
       "   Index  year_film              film  winner\n",
       "0      0       1927  The Last Command    True\n",
       "1      1       1927        7th Heaven    True\n",
       "2      2       1927             Wings    True\n",
       "3      3       1928    In Old Arizona    True\n",
       "4      4       1928          Coquette    True"
      ]
     },
     "execution_count": 11,
     "metadata": {},
     "output_type": "execute_result"
    }
   ],
   "source": [
    "winners.head()\n",
    "# name refers to the company who won"
   ]
  },
  {
   "attachments": {},
   "cell_type": "markdown",
   "metadata": {},
   "source": [
    "dropping Index, year_ceremony(the year when oscar ceremony took place),ceremony, category since they are all best pictures and name of company who won"
   ]
  },
  {
   "cell_type": "code",
   "execution_count": 12,
   "metadata": {},
   "outputs": [],
   "source": [
    "col = [\"year_film\",\"Index\"]\n",
    "winners=winners.drop(col,axis =1)"
   ]
  },
  {
   "attachments": {},
   "cell_type": "markdown",
   "metadata": {},
   "source": [
    "Removing any duplicate movies"
   ]
  },
  {
   "cell_type": "code",
   "execution_count": 15,
   "metadata": {},
   "outputs": [],
   "source": [
    "data4 = data.drop_duplicates(subset=[\"original_title\"],keep='first')\n",
    "data4 = data4.reset_index(drop=True)\n"
   ]
  },
  {
   "cell_type": "code",
   "execution_count": 16,
   "metadata": {},
   "outputs": [
    {
     "name": "stdout",
     "output_type": "stream",
     "text": [
      "(243, 2)\n",
      "(17060, 16)\n",
      "               film  winner\n",
      "0  The Last Command    True\n",
      "1        7th Heaven    True\n",
      "2             Wings    True\n",
      "3    In Old Arizona    True\n",
      "4          Coquette    True\n",
      "   Index  id        original_title  popularity      budget      revenue  \\\n",
      "0      0   2                 Ariel       9.553         NaN          NaN   \n",
      "1      1   3  Varjoja paratiisissa       9.228         NaN          NaN   \n",
      "2      2   5            Four Rooms      18.254   4000000.0    4257354.0   \n",
      "3      3   6        Judgment Night      11.309  21000000.0   12136938.0   \n",
      "4      4  11             Star Wars      87.513  11000000.0  775398007.0   \n",
      "\n",
      "   release_date  popularity.1  vote_average  runtime  \\\n",
      "0        1988.0        10.656         7.053     73.0   \n",
      "1        1986.0         8.276         7.183     74.0   \n",
      "2        1995.0        22.784         5.744     98.0   \n",
      "3        1993.0        11.530         6.543    109.0   \n",
      "4        1977.0        86.624         8.207    121.0   \n",
      "\n",
      "   top_casts_popularity_avg  casts_popularity_sum  top_cast_popularity  \\\n",
      "0                  2.515714                43.183                3.574   \n",
      "1                  2.672714                40.189                3.469   \n",
      "2                 32.033857               362.055               36.681   \n",
      "3                 14.834857               124.008               23.049   \n",
      "4                 17.367714               297.868               37.206   \n",
      "\n",
      "   top_crews_popularity_avg  crews_popularity_sum  top_crew_popularity  \n",
      "0                  2.277857                36.045                2.936  \n",
      "1                  2.158429                28.203                2.936  \n",
      "2                 15.715714               225.920               27.939  \n",
      "3                  3.600143                32.165                5.436  \n",
      "4                  7.543000               121.872               10.994  \n"
     ]
    }
   ],
   "source": [
    "print(winners.shape) #keeping track of the dimensions\n",
    "print(data4.shape) \n",
    "print(winners.head())\n",
    "print(data4.head())"
   ]
  },
  {
   "attachments": {},
   "cell_type": "markdown",
   "metadata": {},
   "source": [
    "Combining the 2 data together"
   ]
  },
  {
   "cell_type": "code",
   "execution_count": 20,
   "metadata": {},
   "outputs": [
    {
     "name": "stdout",
     "output_type": "stream",
     "text": [
      "191\n"
     ]
    }
   ],
   "source": [
    "name_list = []\n",
    "index_list = []\n",
    "Win = []\n",
    "for a in range(0,243): #obtain names of award winning films\n",
    "    name_list.append(winners.iloc[a].at[\"film\"])\n",
    "\n",
    "for b in range(0,17060): #obtain index of award winning films\n",
    "    if data4.iloc[b].at[\"original_title\"] in name_list:\n",
    "        index_list.append(b)\n",
    "\n",
    "print(len(index_list)) #ensure there are 95\n",
    "\n",
    "for c in range(0,17060): #add true for index in index_list, false otherwise\n",
    "    if c in index_list:\n",
    "        Win.append(True)\n",
    "    else:\n",
    "        Win.append(False)\n",
    "\n",
    "Win_dictionary = {}\n",
    "Win_dictionary[\"Won\"]= Win\n",
    "Win_df = pd.DataFrame(Win_dictionary)\n",
    "data5 = pd.concat([data4,Win_df],axis=1)"
   ]
  },
  {
   "cell_type": "code",
   "execution_count": 177,
   "metadata": {},
   "outputs": [
    {
     "name": "stdout",
     "output_type": "stream",
     "text": [
      "   id  original_title  popularity      budget      revenue  release_date  \\\n",
      "0   5      Four Rooms      18.254   4000000.0    4257354.0        1995.0   \n",
      "1   6  Judgment Night      11.309  21000000.0   12136938.0        1993.0   \n",
      "2  11       Star Wars      87.513  11000000.0  775398007.0        1977.0   \n",
      "3  12    Finding Nemo      99.249  94000000.0  940335536.0        2003.0   \n",
      "4  13    Forrest Gump      69.080  55000000.0  677387716.0        1994.0   \n",
      "\n",
      "   popularity.1  vote_average  runtime  top_casts_popularity_avg  \\\n",
      "0        22.784         5.744     98.0                 32.033857   \n",
      "1        11.530         6.543    109.0                 14.834857   \n",
      "2        86.624         8.207    121.0                 17.367714   \n",
      "3        99.340         7.824    100.0                 23.006429   \n",
      "4        68.192         8.481    142.0                 32.837571   \n",
      "\n",
      "   casts_popularity_sum  top_cast_popularity  top_crews_popularity_avg  \\\n",
      "0               362.055               36.681                 15.715714   \n",
      "1               124.008               23.049                  3.600143   \n",
      "2               297.868               37.206                  7.543000   \n",
      "3               467.094               41.251                  8.758000   \n",
      "4               526.057               99.618                  6.422000   \n",
      "\n",
      "   crews_popularity_sum  top_crew_popularity  percentage_revenue    Won  \n",
      "0               225.920               27.939              106.43  False  \n",
      "1                32.165                5.436               57.79  False  \n",
      "2               121.872               10.994             7049.07  False  \n",
      "3               404.117               14.186             1000.36  False  \n",
      "4               224.432               11.735             1231.61   True  \n",
      "(9612, 17)\n"
     ]
    }
   ],
   "source": [
    "#checking the contents\n",
    "print(data5.head())\n",
    "print(data5.shape)"
   ]
  },
  {
   "attachments": {},
   "cell_type": "markdown",
   "metadata": {},
   "source": [
    "Filling NAN or null values using SimpleImputer and median.\n",
    "median is chosen as any missing values will be a numerical variable\n",
    "\"budget\" and \"revenue\" has been replaced by \"percetage_revenue\""
   ]
  },
  {
   "attachments": {},
   "cell_type": "markdown",
   "metadata": {},
   "source": [
    "Removing first \"popularity\"\n",
    "Both \"popularity\" and \"popualarity.1\" refers to the same thing it's just the data was taken on different days"
   ]
  },
  {
   "cell_type": "code",
   "execution_count": 181,
   "metadata": {},
   "outputs": [
    {
     "name": "stdout",
     "output_type": "stream",
     "text": [
      "   id  original_title      budget      revenue  release_date  popularity.1  \\\n",
      "0   5      Four Rooms   4000000.0    4257354.0        1995.0        22.784   \n",
      "1   6  Judgment Night  21000000.0   12136938.0        1993.0        11.530   \n",
      "2  11       Star Wars  11000000.0  775398007.0        1977.0        86.624   \n",
      "3  12    Finding Nemo  94000000.0  940335536.0        2003.0        99.340   \n",
      "4  13    Forrest Gump  55000000.0  677387716.0        1994.0        68.192   \n",
      "\n",
      "   vote_average  runtime  top_casts_popularity_avg  casts_popularity_sum  \\\n",
      "0         5.744     98.0                 32.033857               362.055   \n",
      "1         6.543    109.0                 14.834857               124.008   \n",
      "2         8.207    121.0                 17.367714               297.868   \n",
      "3         7.824    100.0                 23.006429               467.094   \n",
      "4         8.481    142.0                 32.837571               526.057   \n",
      "\n",
      "   top_cast_popularity  top_crews_popularity_avg  crews_popularity_sum  \\\n",
      "0               36.681                 15.715714               225.920   \n",
      "1               23.049                  3.600143                32.165   \n",
      "2               37.206                  7.543000               121.872   \n",
      "3               41.251                  8.758000               404.117   \n",
      "4               99.618                  6.422000               224.432   \n",
      "\n",
      "   top_crew_popularity  percentage_revenue    Won  \n",
      "0               27.939              106.43  False  \n",
      "1                5.436               57.79  False  \n",
      "2               10.994             7049.07  False  \n",
      "3               14.186             1000.36  False  \n",
      "4               11.735             1231.61   True  \n"
     ]
    }
   ],
   "source": [
    "data6=data5.drop([\"popularity\"],axis=1)\n",
    "print(data6.head())"
   ]
  },
  {
   "cell_type": "code",
   "execution_count": 184,
   "metadata": {},
   "outputs": [],
   "source": [
    "impute = SimpleImputer(missing_values=np.nan,strategy=\"median\")\n",
    "imputer= impute.fit(data6.iloc[:,5:15])\n",
    "data6.iloc[:,5:15]=imputer.transform(data6.iloc[:,5:15])"
   ]
  },
  {
   "attachments": {},
   "cell_type": "markdown",
   "metadata": {},
   "source": [
    "Export a cleaned movie data csv"
   ]
  },
  {
   "cell_type": "code",
   "execution_count": 187,
   "metadata": {},
   "outputs": [],
   "source": [
    "data6.to_csv(\"CleanedMovieData.csv\")"
   ]
  },
  {
   "cell_type": "code",
   "execution_count": null,
   "metadata": {},
   "outputs": [],
   "source": []
  },
  {
   "cell_type": "code",
   "execution_count": null,
   "metadata": {},
   "outputs": [],
   "source": []
  }
 ],
 "metadata": {
  "kernelspec": {
   "display_name": "base",
   "language": "python",
   "name": "python3"
  },
  "language_info": {
   "codemirror_mode": {
    "name": "ipython",
    "version": 3
   },
   "file_extension": ".py",
   "mimetype": "text/x-python",
   "name": "python",
   "nbconvert_exporter": "python",
   "pygments_lexer": "ipython3",
   "version": "3.9.13"
  },
  "orig_nbformat": 4
 },
 "nbformat": 4,
 "nbformat_minor": 2
}
